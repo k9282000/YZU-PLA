{
 "cells": [
  {
   "cell_type": "code",
   "execution_count": 84,
   "metadata": {},
   "outputs": [
    {
     "name": "stdout",
     "output_type": "stream",
     "text": [
      "write submit file:test_submission.csv\n"
     ]
    }
   ],
   "source": [
    "import numpy as np\n",
    "import pandas as pd\n",
    "\n",
    "\n",
    "\n",
    "class perceptron(object):\n",
    "\n",
    "    \n",
    "    def __init__(self,eta=0.01,n_iter=1000):\n",
    "        self.eta=eta\n",
    "        self.n_iter=n_iter\n",
    "    \n",
    "    def fit(self,X,y):\n",
    "\n",
    "        self.w_=np.zeros(1+X.shape[1])\n",
    "        self.errors_=[]\n",
    "        \n",
    "        for _ in range(self.n_iter):\n",
    "            errors=0\n",
    "            for xi , target in zip(X,y):\n",
    "                update=self.eta * (target - self.predict(xi))\n",
    "                self.w_[1:]+=update *xi\n",
    "                self.w_[0]+=update\n",
    "                errors += int (update !=0.0)\n",
    "            self.errors_.append(errors)\n",
    "        return self\n",
    "    \n",
    "    def net_input(self,X):\n",
    "        '''\n",
    "        Calculate net input\n",
    "        '''\n",
    "        return np.dot(X, self.w_[1:])+self.w_[0]\n",
    "    \n",
    "    def predict(self,X):\n",
    "        '''\n",
    "        Return class label after unit step\n",
    "        '''\n",
    "        return np.where(self.net_input(X) >=0.5,1,0)\n",
    "    \n",
    "if __name__ == \"__main__\":     \n",
    "    \n",
    "    train_data = pd.read_csv('train.csv',header=0)\n",
    "    test_data = pd.read_csv('test.csv',header=0)\n",
    "    \n",
    "    #資料缺失以平均值填充\n",
    "    train_data[\"Age\"] = train_data[\"Age\"].fillna(train_data[\"Age\"].median())\n",
    "    test_data[\"Age\"] = test_data[\"Age\"].fillna(test_data[\"Age\"].median())\n",
    "    train_data[\"Fare\"] = train_data[\"Fare\"].fillna(train_data[\"Fare\"].median())\n",
    "    test_data[\"Fare\"] = test_data[\"Fare\"].fillna(test_data[\"Fare\"].median())\n",
    "    \n",
    "    #性別資料:男性=1，女性=0\n",
    "    train_data[\"Sex\"] = train_data[\"Sex\"].apply(lambda x:1 if x ==\"male\" else 0)\n",
    "    test_data[\"Sex\"] = test_data[\"Sex\"].apply(lambda x:1 if x ==\"male\" else 0)\n",
    "    \n",
    "    #出發地C生存較高=1,其它=0\n",
    "    train_data[\"Embarked\"] = train_data[\"Embarked\"].apply(lambda x:1 if x ==\"C\" else 0)\n",
    "    test_data[\"Embarked\"] = test_data[\"Embarked\"].apply(lambda x:1 if x ==\"C\" else 0)\n",
    "    \n",
    "    feature=[\"Age\",\"Sex\",\"Fare\",\"Pclass\",\"Embarked\"]\n",
    "        \n",
    "    X_train = train_data[feature].values\n",
    "    y_train = train_data[\"Survived\"].values\n",
    "    X_test = test_data[feature].values\n",
    "    \n",
    "\n",
    "    ppn = perceptron(eta=0.8,n_iter=1000)\n",
    "    ppn.fit(X_train,y_train)\n",
    "\n",
    "    #預測 test data並輸出結果\n",
    "    predict_data=ppn.predict(X_test)\n",
    "    \n",
    "        \n",
    "    submission=pd.DataFrame({\n",
    "    \"PassengerId\" : test_data[\"PassengerId\"],\n",
    "    \"Survived\" : predict_data\n",
    "    })\n",
    "\n",
    "    print(\"write submit file:test_submission.csv\")\n",
    "    submission.to_csv('test_submission',index=False)\n",
    "    \n",
    "    "
   ]
  },
  {
   "cell_type": "code",
   "execution_count": null,
   "metadata": {},
   "outputs": [],
   "source": []
  }
 ],
 "metadata": {
  "kernelspec": {
   "display_name": "Python 3",
   "language": "python",
   "name": "python3"
  },
  "language_info": {
   "codemirror_mode": {
    "name": "ipython",
    "version": 3
   },
   "file_extension": ".py",
   "mimetype": "text/x-python",
   "name": "python",
   "nbconvert_exporter": "python",
   "pygments_lexer": "ipython3",
   "version": "3.7.3"
  }
 },
 "nbformat": 4,
 "nbformat_minor": 2
}
